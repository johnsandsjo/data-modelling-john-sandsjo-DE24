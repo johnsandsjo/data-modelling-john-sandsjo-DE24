{
 "cells": [
  {
   "cell_type": "code",
   "execution_count": 1,
   "metadata": {},
   "outputs": [
    {
     "data": {
      "text/plain": [
       "Collection(Database(MongoClient(host=['localhost:27017'], document_class=dict, tz_aware=False, connect=True, authsource='admin'), 'linkedin'), 'linkedin-profiles')"
      ]
     },
     "execution_count": 1,
     "metadata": {},
     "output_type": "execute_result"
    }
   ],
   "source": [
    "from connect_mongodb import get_collection\n",
    "\n",
    "profiles = get_collection(database_name=\"linkedin\", collection=\"linkedin-profiles\")\n",
    "profiles"
   ]
  },
  {
   "cell_type": "code",
   "execution_count": 4,
   "metadata": {},
   "outputs": [
    {
     "data": {
      "text/plain": [
       "{'_id': ObjectId('67e1558fc100264cdab83254'),\n",
       " 'user_id': 42145,\n",
       " 'first_name': 'Kokchun',\n",
       " 'last_name': 'Giang',\n",
       " 'about': 'Data engineer, scientist, and educator passionate about turning messy data into valuable insights. Loves open-source projects and community contributions.',\n",
       " 'photo_url': 'https://media.licdn.com/digitalprofile/kokchun',\n",
       " 'experience': [{'title': 'Founder & Lead Consultant',\n",
       "   'organization': 'AIgineer',\n",
       "   'start_date': '2024-01',\n",
       "   'end_date': 'present',\n",
       "   'description': 'Advising businesses on integrating AI solutions and developing custom data engineering pipelines.'},\n",
       "  {'title': 'Lecturer in AI and Machine Learning',\n",
       "   'organization': 'IT-Högskolan',\n",
       "   'start_date': '2021-01',\n",
       "   'end_date': '2023-12',\n",
       "   'description': 'Taught courses on AI, machine learning, and data analytics to undergraduate and graduate students.'}]}"
      ]
     },
     "execution_count": 4,
     "metadata": {},
     "output_type": "execute_result"
    }
   ],
   "source": [
    "profiles.find_one()"
   ]
  },
  {
   "cell_type": "code",
   "execution_count": 5,
   "metadata": {},
   "outputs": [
    {
     "data": {
      "text/plain": [
       "{'_id': ObjectId('67e1558fc100264cdab83255'),\n",
       " 'user_id': 42146,\n",
       " 'first_name': 'Maria',\n",
       " 'last_name': 'Doe',\n",
       " 'about': 'Aspiring software engineer with a passion for automating processes and exploring the intersection of AI and operations.',\n",
       " 'photo_url': 'https://example.com/photos/johndoe',\n",
       " 'experience': [{'title': 'Junior Software Engineer',\n",
       "   'organization': 'Tech Innovators Inc.',\n",
       "   'start_date': '2022-05',\n",
       "   'end_date': 'present',\n",
       "   'description': 'Developing backend services and working on automated deployment pipelines.'},\n",
       "  {'title': 'Intern, Data Operations',\n",
       "   'organization': 'DataFlow Solutions',\n",
       "   'start_date': '2021-06',\n",
       "   'end_date': '2021-08',\n",
       "   'description': 'Assisted in designing and maintaining ETL processes for large-scale data ingestion.'}],\n",
       " 'education': [{'degree': 'B.Sc. in Information Technology',\n",
       "   'institution': 'State University',\n",
       "   'start_date': '2018-09',\n",
       "   'end_date': '2022-06',\n",
       "   'description': 'Focused on software development, database management, and network security.'}]}"
      ]
     },
     "execution_count": 5,
     "metadata": {},
     "output_type": "execute_result"
    }
   ],
   "source": [
    "profiles.find_one({\"first_name\": \"Maria\"})"
   ]
  },
  {
   "cell_type": "code",
   "execution_count": 11,
   "metadata": {},
   "outputs": [
    {
     "data": {
      "text/plain": [
       "('Maria', 'Junior Software Engineer')"
      ]
     },
     "execution_count": 11,
     "metadata": {},
     "output_type": "execute_result"
    }
   ],
   "source": [
    "profiles_maria = [profile for profile in profiles.find({\"first_name\": \"Maria\"})]\n",
    "profiles_maria[0][\"first_name\"], profiles_maria[0][\"experience\"][0][\"title\"]"
   ]
  },
  {
   "cell_type": "code",
   "execution_count": 13,
   "metadata": {},
   "outputs": [
    {
     "data": {
      "text/plain": [
       "('Maria', 'Data Analyst')"
      ]
     },
     "execution_count": 13,
     "metadata": {},
     "output_type": "execute_result"
    }
   ],
   "source": [
    "profiles_maria[1][\"first_name\"], profiles_maria[1][\"experience\"][0][\"title\"]"
   ]
  }
 ],
 "metadata": {
  "kernelspec": {
   "display_name": ".venv",
   "language": "python",
   "name": "python3"
  },
  "language_info": {
   "codemirror_mode": {
    "name": "ipython",
    "version": 3
   },
   "file_extension": ".py",
   "mimetype": "text/x-python",
   "name": "python",
   "nbconvert_exporter": "python",
   "pygments_lexer": "ipython3",
   "version": "3.12.5"
  }
 },
 "nbformat": 4,
 "nbformat_minor": 2
}
